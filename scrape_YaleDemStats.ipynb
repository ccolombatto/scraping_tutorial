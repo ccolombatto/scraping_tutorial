{
 "cells": [
  {
   "cell_type": "markdown",
   "metadata": {},
   "source": [
    "## Table Scraping & Visualization Example\n",
    "\n",
    "In this notebook we will go through an example of how to download table data from a website and visualize it. As a toy example, we will use <i>data from Yale's Office of Institutional Research</i>."
   ]
  },
  {
   "cell_type": "code",
   "execution_count": null,
   "metadata": {},
   "outputs": [],
   "source": [
    "# You already know about these:\n",
    "\n",
    "import pandas as pd\n",
    "import numpy as np\n",
    "import matplotlib.pyplot as plt\n",
    "import seaborn as sns\n",
    "%matplotlib inline\n",
    "import re\n",
    "\n",
    "from urllib.request import urlopen\n",
    "from bs4 import BeautifulSoup"
   ]
  },
  {
   "cell_type": "code",
   "execution_count": null,
   "metadata": {},
   "outputs": [],
   "source": [
    "# Get the html of the page\n",
    "url = \"https://www.yale.edu/about-yale/yale-facts\"\n",
    "html = urlopen(url)"
   ]
  },
  {
   "cell_type": "code",
   "execution_count": null,
   "metadata": {},
   "outputs": [],
   "source": [
    "# Create a Beautiful Soup object from the html\n",
    "soup = BeautifulSoup(html, 'lxml')\n",
    "type(soup)"
   ]
  },
  {
   "cell_type": "code",
   "execution_count": null,
   "metadata": {},
   "outputs": [],
   "source": [
    "# Get the title\n",
    "title = soup.title\n",
    "print(title)"
   ]
  },
  {
   "cell_type": "code",
   "execution_count": null,
   "metadata": {},
   "outputs": [],
   "source": [
    "# Get the text\n",
    "text = soup.get_text()\n",
    "print(soup.text)"
   ]
  },
  {
   "cell_type": "code",
   "execution_count": null,
   "metadata": {},
   "outputs": [],
   "source": [
    "# You already know about this:\n",
    "\n",
    "soup.find_all('a')"
   ]
  },
  {
   "cell_type": "code",
   "execution_count": null,
   "metadata": {},
   "outputs": [],
   "source": [
    "# Get the tables!\n",
    "rows = soup.find_all('tr')\n",
    "print(rows)"
   ]
  },
  {
   "cell_type": "code",
   "execution_count": null,
   "metadata": {},
   "outputs": [],
   "source": [
    "# Mmh, that's more than we need, let's see if we should splice the list:\n",
    "\n",
    "print(rows[20])"
   ]
  },
  {
   "cell_type": "code",
   "execution_count": null,
   "metadata": {},
   "outputs": [],
   "source": [
    "# Yes! That's the last row we need..splice there\n",
    "\n",
    "rows = rows[:21]\n",
    "print(rows)"
   ]
  },
  {
   "cell_type": "code",
   "execution_count": null,
   "metadata": {},
   "outputs": [],
   "source": [
    "# We need to remove those tags again:\n",
    "# Find all the characters inside the < td > html tags and replace them with an empty string \n",
    "list_rows = []\n",
    "for row in rows:\n",
    "    cells = row.find_all('td')\n",
    "    str_cells = str(cells)\n",
    "    # Match \"<\" followed by anything and \">\" \n",
    "    clean = re.compile('<.*?>')\n",
    "    # Replace matching substring with an empty string\n",
    "    clean2 = (re.sub(clean, '',str_cells))\n",
    "    list_rows.append(clean2)\n",
    "\n",
    "print(clean2)\n",
    "type(clean2)"
   ]
  },
  {
   "cell_type": "code",
   "execution_count": null,
   "metadata": {},
   "outputs": [],
   "source": [
    "# Convert the list into a dataframe\n",
    "df = pd.DataFrame(list_rows)\n",
    "\n",
    "df.head()"
   ]
  },
  {
   "cell_type": "code",
   "execution_count": null,
   "metadata": {},
   "outputs": [],
   "source": [
    "# Let's split those lists into columns:\n",
    "df1 = df[0].str.split(', ', expand=True)\n",
    "\n",
    "df1.head()"
   ]
  },
  {
   "cell_type": "code",
   "execution_count": null,
   "metadata": {},
   "outputs": [],
   "source": [
    "# Let's remove the brakets from the first..\n",
    "df1[0] = df1[0].str.strip('[').str.strip(']')\n",
    "# And the last column\n",
    "df1[4] = df1[4].str.strip(']')\n",
    "\n",
    "df1.head()"
   ]
  },
  {
   "cell_type": "code",
   "execution_count": null,
   "metadata": {},
   "outputs": [],
   "source": [
    "# We need table titles! Let's find them from our soup\n",
    "col_labels = soup.find_all('th')\n",
    "\n",
    "type(col_labels)"
   ]
  },
  {
   "cell_type": "code",
   "execution_count": null,
   "metadata": {},
   "outputs": [],
   "source": [
    "# Transform to string: \n",
    "all_header = []\n",
    "col_str = str(col_labels)\n",
    "all_header = BeautifulSoup(col_str, \"lxml\").get_text()\n",
    "\n",
    "print(all_header)"
   ]
  },
  {
   "cell_type": "code",
   "execution_count": null,
   "metadata": {},
   "outputs": [],
   "source": [
    "# We don't need them all!\n",
    "header = all_header[:47]\n",
    "print(header)"
   ]
  },
  {
   "cell_type": "code",
   "execution_count": null,
   "metadata": {},
   "outputs": [],
   "source": [
    "# Assign to dataframe header\n",
    "\n",
    "df1.columns = header.split(', ')\n",
    "df1.head()"
   ]
  },
  {
   "cell_type": "code",
   "execution_count": null,
   "metadata": {},
   "outputs": [],
   "source": [
    "# Delete the empty row!\n",
    "\n",
    "df1 = df1.dropna(axis=0, how='any')\n",
    "df1.head()"
   ]
  },
  {
   "cell_type": "code",
   "execution_count": null,
   "metadata": {},
   "outputs": [],
   "source": [
    "# WShat are those empty spaces?\n",
    "\n",
    "df1.iloc[3]['Male']"
   ]
  },
  {
   "cell_type": "code",
   "execution_count": null,
   "metadata": {},
   "outputs": [],
   "source": [
    "# Ok, let's replace and delete!\n",
    "\n",
    "df1.replace('\\xa0', np.nan, inplace=True)\n",
    "df1 = df1.dropna(axis=0, how='any')\n",
    "df1.head()"
   ]
  },
  {
   "cell_type": "code",
   "execution_count": null,
   "metadata": {},
   "outputs": [],
   "source": [
    "# Let's get ready for plotting:\n",
    "\n",
    "# The first column is really the index of the dataframe; \n",
    "df1.set_index('[Division', inplace=True)\n",
    "\n",
    "# Also we need to convert the values to numbers\n",
    "df1 = df1.apply(lambda x: x.str.replace(',',''))\n",
    "df1 = df1.apply(lambda x: x.str.replace('%',''))\n",
    "df1 = df1.astype(float)\n",
    "\n",
    "df1.head()"
   ]
  },
  {
   "cell_type": "code",
   "execution_count": null,
   "metadata": {},
   "outputs": [],
   "source": [
    "df1['% Male'] = df1['Male']*100/df1['Total']\n",
    "df1['% Female'] = df1['Female']*100/df1['Total']\n",
    "df1.head()"
   ]
  },
  {
   "cell_type": "code",
   "execution_count": null,
   "metadata": {},
   "outputs": [],
   "source": [
    "df1.plot.bar(y=['% Male', '% Female'], stacked=True)"
   ]
  },
  {
   "cell_type": "code",
   "execution_count": null,
   "metadata": {},
   "outputs": [],
   "source": [
    "df1.plot.bar(y=['% International'], color='green')"
   ]
  },
  {
   "cell_type": "markdown",
   "metadata": {},
   "source": [
    "## Your turn!"
   ]
  },
  {
   "cell_type": "markdown",
   "metadata": {},
   "source": [
    "In the above example, we extracted data from one of the tables in the Yale Facts website. Now you'll try to extract data from another table -- the number of degrees conferred in the 2017-18 academic year. "
   ]
  },
  {
   "cell_type": "markdown",
   "metadata": {},
   "source": [
    "Remember when we extracted the tables on the website, we only retained the first 21 rows -- but we can still recover the rest: "
   ]
  },
  {
   "cell_type": "code",
   "execution_count": null,
   "metadata": {},
   "outputs": [],
   "source": [
    "# Print the first 10 rows for sanity check\n",
    "rows = soup.find_all('tr')\n",
    "print(rows)"
   ]
  },
  {
   "cell_type": "markdown",
   "metadata": {},
   "source": [
    "Exercise 1: slice the list of tables retaining only the data points the number of degrees conferred"
   ]
  },
  {
   "cell_type": "code",
   "execution_count": null,
   "metadata": {},
   "outputs": [],
   "source": [
    "rows = ###YOUR ANSWER HERE###"
   ]
  },
  {
   "cell_type": "code",
   "execution_count": null,
   "metadata": {},
   "outputs": [],
   "source": [
    "# Check it matches the website\n",
    "print(rows)"
   ]
  },
  {
   "cell_type": "code",
   "execution_count": null,
   "metadata": {},
   "outputs": [],
   "source": [
    "# Find all the characters inside the < td > html tags and replace them with an empty string \n",
    "list_rows = []\n",
    "for row in rows:\n",
    "    cells = row.find_all('td')\n",
    "    str_cells = str(cells)\n",
    "    # Match \"<\" followed by anything and \">\" \n",
    "    clean = re.compile('<.*?>')\n",
    "    # Replace matching substring with an empty string\n",
    "    clean2 = (re.sub(clean, '',str_cells))\n",
    "    list_rows.append(clean2)\n",
    "print(clean2)\n",
    "type(clean2)"
   ]
  },
  {
   "cell_type": "code",
   "execution_count": null,
   "metadata": {},
   "outputs": [],
   "source": [
    "# Convert the list into a dataframe\n",
    "df = pd.DataFrame(list_rows)\n",
    "df.head(10)"
   ]
  },
  {
   "cell_type": "markdown",
   "metadata": {},
   "source": [
    "Let's now get the titles for this new data - remember we have already downloaded the titles earlier:"
   ]
  },
  {
   "cell_type": "code",
   "execution_count": null,
   "metadata": {},
   "outputs": [],
   "source": [
    "print(all_header)"
   ]
  },
  {
   "cell_type": "markdown",
   "metadata": {},
   "source": [
    "Exercise 2: extract the relevant titles for this dataframe from the list we downloaded earlier"
   ]
  },
  {
   "cell_type": "code",
   "execution_count": null,
   "metadata": {},
   "outputs": [],
   "source": [
    "header = ###YOUR ANSWER HERE###\n",
    "header = header.strip('[')\n",
    "header = header.split(', ')\n",
    "print(header)"
   ]
  },
  {
   "cell_type": "markdown",
   "metadata": {},
   "source": [
    "Exercise 3: convert the dataframe into a format we can work with, using these steps:"
   ]
  },
  {
   "cell_type": "code",
   "execution_count": null,
   "metadata": {},
   "outputs": [],
   "source": [
    "# 1. convert the first column into multiple columns\n",
    "df1 = ###YOUR ANSWER HERE###\n",
    "\n",
    "df1.head()"
   ]
  },
  {
   "cell_type": "code",
   "execution_count": null,
   "metadata": {},
   "outputs": [],
   "source": [
    "# 2. delete extra characters (e.g. '[', ']', '%', ...)\n",
    "df1[0] = df1[0].str.strip('[').str.strip(']')\n",
    "df1[4] = df1[4].str.strip(']').str.strip('%')\n",
    "\n",
    "df1.head()\n"
   ]
  },
  {
   "cell_type": "code",
   "execution_count": null,
   "metadata": {},
   "outputs": [],
   "source": [
    "# 3. remember we had trouble earlier converting strings to floats \n",
    "#.   because they had a comma separator; let's change those commas now\n",
    "df1 = df1.apply(lambda x: x.str.replace(',',''))\n",
    "\n",
    "df1.head()"
   ]
  },
  {
   "cell_type": "code",
   "execution_count": null,
   "metadata": {},
   "outputs": [],
   "source": [
    "# 4. assign the titles we extracted\n",
    "df1.columns = ###YOUR ANSWER HERE###\n",
    "\n",
    "df1.head()"
   ]
  },
  {
   "cell_type": "code",
   "execution_count": null,
   "metadata": {},
   "outputs": [],
   "source": [
    "# 5. replace empty cells with NaN\n",
    "###YOUR ANSWER HERE###\n",
    "\n",
    "df1.head()"
   ]
  },
  {
   "cell_type": "code",
   "execution_count": null,
   "metadata": {},
   "outputs": [],
   "source": [
    "# 6. drop empty rows\n",
    "###YOUR ANSWER HERE###\n",
    "\n",
    "df1.head()"
   ]
  },
  {
   "cell_type": "code",
   "execution_count": null,
   "metadata": {},
   "outputs": [],
   "source": [
    "# 7. convert first column to index\n",
    "###YOUR ANSWER HERE###\n",
    "\n",
    "df1.head()"
   ]
  },
  {
   "cell_type": "code",
   "execution_count": null,
   "metadata": {},
   "outputs": [],
   "source": [
    "# 8. Convert strings to floats\n",
    "df1 = df1.astype(float)\n",
    "\n",
    "df1.head()"
   ]
  },
  {
   "cell_type": "code",
   "execution_count": null,
   "metadata": {},
   "outputs": [],
   "source": [
    "# 9. Create new columns for percentage for easier plotting\n",
    "df1['% Male'] = df1['Men']*100/df1['Total']\n",
    "df1['% Female'] = df1['Women']*100/df1['Total']\n",
    "\n",
    "df1.head()"
   ]
  },
  {
   "cell_type": "markdown",
   "metadata": {},
   "source": [
    "Great, now we are ready for plotting!"
   ]
  },
  {
   "cell_type": "markdown",
   "metadata": {},
   "source": [
    "Exercise 4: make a bar graph plotting the % of degrees conferred (y axis) for each degree type (x axis), separately for male and female (colors)"
   ]
  },
  {
   "cell_type": "code",
   "execution_count": null,
   "metadata": {},
   "outputs": [],
   "source": [
    "###YOUR ANSWER HERE###"
   ]
  },
  {
   "cell_type": "code",
   "execution_count": null,
   "metadata": {},
   "outputs": [],
   "source": []
  }
 ],
 "metadata": {
  "kernelspec": {
   "display_name": "Python 3",
   "language": "python",
   "name": "python3"
  },
  "language_info": {
   "codemirror_mode": {
    "name": "ipython",
    "version": 3
   },
   "file_extension": ".py",
   "mimetype": "text/x-python",
   "name": "python",
   "nbconvert_exporter": "python",
   "pygments_lexer": "ipython3",
   "version": "3.7.3"
  }
 },
 "nbformat": 4,
 "nbformat_minor": 2
}
