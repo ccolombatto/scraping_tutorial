{
 "cells": [
  {
   "cell_type": "markdown",
   "metadata": {},
   "source": [
    "## Table Scraping & Visualization Example\n",
    "\n",
    "In this notebook we will go through an example of how to download table data from a website and visualize it. As a toy example, we will use <i>data from Yale's Office of Institutional Research</i>."
   ]
  },
  {
   "cell_type": "code",
   "execution_count": 1,
   "metadata": {},
   "outputs": [],
   "source": [
    "# You already know about these:\n",
    "\n",
    "import pandas as pd\n",
    "import numpy as np\n",
    "import matplotlib.pyplot as plt\n",
    "import seaborn as sns\n",
    "%matplotlib inline\n",
    "import re\n",
    "\n",
    "from urllib.request import urlopen\n",
    "from bs4 import BeautifulSoup"
   ]
  },
  {
   "cell_type": "code",
   "execution_count": 2,
   "metadata": {},
   "outputs": [],
   "source": [
    "# Get the html of the page\n",
    "url = \"https://www.yale.edu/about-yale/yale-facts\"\n",
    "html = urlopen(url)"
   ]
  },
  {
   "cell_type": "code",
   "execution_count": 3,
   "metadata": {},
   "outputs": [
    {
     "data": {
      "text/plain": [
       "bs4.BeautifulSoup"
      ]
     },
     "execution_count": 3,
     "metadata": {},
     "output_type": "execute_result"
    }
   ],
   "source": [
    "# Create a Beautiful Soup object from the html\n",
    "soup = BeautifulSoup(html, 'lxml')\n",
    "type(soup)"
   ]
  },
  {
   "cell_type": "code",
   "execution_count": 4,
   "metadata": {},
   "outputs": [
    {
     "name": "stdout",
     "output_type": "stream",
     "text": [
      "<title>Yale Facts | Yale University</title>\n"
     ]
    }
   ],
   "source": [
    "# Get the title\n",
    "title = soup.title\n",
    "print(title)"
   ]
  },
  {
   "cell_type": "code",
   "execution_count": 5,
   "metadata": {},
   "outputs": [
    {
     "name": "stdout",
     "output_type": "stream",
     "text": [
      "8\n",
      "204\n",
      "14%\n",
      "\n",
      "\n",
      "Forestry & Environmental Studies\n",
      "136\n",
      "182\n",
      "318\n",
      "24%\n",
      "\n",
      "\n",
      "Law\n",
      "338\n",
      "328\n",
      "666\n",
      "13%\n",
      "\n",
      "\n",
      "Management\n",
      "548\n",
      "375\n",
      "923\n",
      "40%\n",
      "\n",
      "\n",
      "M.D.\n",
      "243\n",
      "265\n",
      "508\n",
      "13%\n",
      "\n",
      "\n",
      "Music\n",
      "125\n",
      "102\n",
      "227\n",
      "36%\n",
      "\n",
      "\n",
      "- Institute of Sacred Music\n",
      "19\n",
      "9\n",
      "28\n",
      "14%\n"
     ]
    }
   ],
   "source": [
    "# Get the text\n",
    "text = soup.get_text()\n",
    "print(soup.text[15000:15200])"
   ]
  },
  {
   "cell_type": "code",
   "execution_count": 6,
   "metadata": {},
   "outputs": [
    {
     "name": "stdout",
     "output_type": "stream",
     "text": [
      "[<a class=\"main_nav_child_link\" href=\"https://poorvucenter.yale.edu/online-courses\">Online Learning</a>, <a class=\"main_nav_link\" href=\"/admissions\">Admissions</a>, <a class=\"main_nav_child_link\" href=\"https://admissions.yale.edu/\">Undergraduate</a>, <a class=\"main_nav_child_link\" href=\"/admissions/graduate-professional-schools\">Graduate &amp; Professional Schools</a>, <a class=\"main_nav_child_link\" href=\"/admissions/financial-aid\">Financial Aid</a>, <a class=\"main_nav_child_link\" href=\"https://world.yale.edu/admissions\">International Students</a>, <a class=\"main_nav_child_link\" href=\"https://summer.yale.edu/apply\">Summer Session</a>, <a class=\"main_nav_child_link\" href=\"/admissions/non-degree-seeking-students\">Non-Degree Seeking Students</a>, <a class=\"main_nav_child_link\" href=\"https://worldfellows.yale.edu/the-program/application/\">World Fellows Program</a>, <a class=\"main_nav_link\" href=\"/research-collections\">Research &amp; Collections</a>]\n"
     ]
    }
   ],
   "source": [
    "# You already know about this:\n",
    "\n",
    "print(soup.find_all('a')[20:30])"
   ]
  },
  {
   "cell_type": "code",
   "execution_count": 7,
   "metadata": {},
   "outputs": [
    {
     "name": "stdout",
     "output_type": "stream",
     "text": [
      "[<tr>\n",
      "<td>Forestry &amp; Environmental Studies</td>\n",
      "<td>136</td>\n",
      "<td>182</td>\n",
      "<td>318</td>\n",
      "<td>24%</td>\n",
      "</tr>, <tr>\n",
      "<td>Law</td>\n",
      "<td>338</td>\n",
      "<td>328</td>\n",
      "<td>666</td>\n",
      "<td>13%</td>\n",
      "</tr>, <tr>\n",
      "<td>Management</td>\n",
      "<td>548</td>\n",
      "<td>375</td>\n",
      "<td>923</td>\n",
      "<td>40%</td>\n",
      "</tr>, <tr>\n",
      "<td>M.D.</td>\n",
      "<td>243</td>\n",
      "<td>265</td>\n",
      "<td>508</td>\n",
      "<td>13%</td>\n",
      "</tr>, <tr>\n",
      "<td>Music</td>\n",
      "<td>125</td>\n",
      "<td>102</td>\n",
      "<td>227</td>\n",
      "<td>36%</td>\n",
      "</tr>, <tr>\n",
      "<td><em>- Institute of Sacred Music</em></td>\n",
      "<td><em>19</em></td>\n",
      "<td><em>9</em></td>\n",
      "<td><em>28</em></td>\n",
      "<td><em>14%</em></td>\n",
      "</tr>, <tr>\n",
      "<td>Nursing</td>\n",
      "<td>49</td>\n",
      "<td>366</td>\n",
      "<td>415</td>\n",
      "<td>1%</td>\n",
      "</tr>, <tr>\n",
      "<td>Physician Associate</td>\n",
      "<td>31</td>\n",
      "<td>85</td>\n",
      "<td>116</td>\n",
      "<td>2%</td>\n",
      "</tr>, <tr>\n",
      "<td>Public Health</td>\n",
      "<td>99</td>\n",
      "<td>272</td>\n",
      "<td>371</td>\n",
      "<td>28%</td>\n",
      "</tr>, <tr>\n",
      "<td><strong>Professional School Programs Total</strong></td>\n",
      "<td>1,991</td>\n",
      "<td>2,446</td>\n",
      "<td>4,437</td>\n",
      "<td>22%</td>\n",
      "</tr>]\n"
     ]
    }
   ],
   "source": [
    "# Get the tables!\n",
    "rows = soup.find_all('tr')\n",
    "print(rows[10:20])"
   ]
  },
  {
   "cell_type": "code",
   "execution_count": 8,
   "metadata": {},
   "outputs": [
    {
     "name": "stdout",
     "output_type": "stream",
     "text": [
      "<tr>\n",
      "<td><strong>Total University</strong></td>\n",
      "<td><strong>6,581</strong></td>\n",
      "<td><strong>6,881</strong></td>\n",
      "<td><strong>13,462</strong></td>\n",
      "<td><strong>21%</strong></td>\n",
      "</tr>\n"
     ]
    }
   ],
   "source": [
    "# Mmh, that's more than we need, let's see if we should splice the list:\n",
    "\n",
    "print(rows[20])"
   ]
  },
  {
   "cell_type": "code",
   "execution_count": 9,
   "metadata": {},
   "outputs": [
    {
     "name": "stdout",
     "output_type": "stream",
     "text": [
      "[<tr>\n",
      "<th class=\"rteleft\">Division</th>\n",
      "<th class=\"rteleft\">Male</th>\n",
      "<th class=\"rteleft\">Female</th>\n",
      "<th class=\"rteleft\">Total</th>\n",
      "<th class=\"rteleft\">% International*</th>\n",
      "</tr>, <tr>\n",
      "<td>Yale College</td>\n",
      "<td>2,971</td>\n",
      "<td>2,993</td>\n",
      "<td>5,964</td>\n",
      "<td>11%</td>\n",
      "</tr>, <tr>\n",
      "<td>Special (Degree &amp; Non-Degree)</td>\n",
      "<td>23</td>\n",
      "<td>6</td>\n",
      "<td>29</td>\n",
      "<td> 0%</td>\n",
      "</tr>, <tr>\n",
      "<td>Graduate School of Arts &amp; Sciences</td>\n",
      "<td>1,596</td>\n",
      "<td>1,436</td>\n",
      "<td>3,032</td>\n",
      "<td>37%</td>\n",
      "</tr>, <tr>\n",
      "<td>\n",
      "<p role=\"heading\"><strong>Professional School Programs</strong></p>\n",
      "</td>\n",
      "<td> </td>\n",
      "<td> </td>\n",
      "<td> </td>\n",
      "<td> </td>\n",
      "</tr>, <tr>\n",
      "<td>Architecture</td>\n",
      "<td>94</td>\n",
      "<td>112</td>\n",
      "<td>206</td>\n",
      "<td>47%</td>\n",
      "</tr>, <tr>\n",
      "<td>Art</td>\n",
      "<td>53</td>\n",
      "<td>75</td>\n",
      "<td>128</td>\n",
      "<td>28%</td>\n",
      "</tr>, <tr>\n",
      "<td>Divinity</td>\n",
      "<td>189</td>\n",
      "<td>166</td>\n",
      "<td>355</td>\n",
      "<td>14%</td>\n",
      "</tr>, <tr>\n",
      "<td><em>- Institute of Sacred Music</em></td>\n",
      "<td><em>15</em></td>\n",
      "<td><em>19</em></td>\n",
      "<td><em>34</em></td>\n",
      "<td><em>21%</em></td>\n",
      "</tr>, <tr>\n",
      "<td>Drama</td>\n",
      "<td>86</td>\n",
      "<td>118</td>\n",
      "<td>204</td>\n",
      "<td>14%</td>\n",
      "</tr>, <tr>\n",
      "<td>Forestry &amp; Environmental Studies</td>\n",
      "<td>136</td>\n",
      "<td>182</td>\n",
      "<td>318</td>\n",
      "<td>24%</td>\n",
      "</tr>, <tr>\n",
      "<td>Law</td>\n",
      "<td>338</td>\n",
      "<td>328</td>\n",
      "<td>666</td>\n",
      "<td>13%</td>\n",
      "</tr>, <tr>\n",
      "<td>Management</td>\n",
      "<td>548</td>\n",
      "<td>375</td>\n",
      "<td>923</td>\n",
      "<td>40%</td>\n",
      "</tr>, <tr>\n",
      "<td>M.D.</td>\n",
      "<td>243</td>\n",
      "<td>265</td>\n",
      "<td>508</td>\n",
      "<td>13%</td>\n",
      "</tr>, <tr>\n",
      "<td>Music</td>\n",
      "<td>125</td>\n",
      "<td>102</td>\n",
      "<td>227</td>\n",
      "<td>36%</td>\n",
      "</tr>, <tr>\n",
      "<td><em>- Institute of Sacred Music</em></td>\n",
      "<td><em>19</em></td>\n",
      "<td><em>9</em></td>\n",
      "<td><em>28</em></td>\n",
      "<td><em>14%</em></td>\n",
      "</tr>, <tr>\n",
      "<td>Nursing</td>\n",
      "<td>49</td>\n",
      "<td>366</td>\n",
      "<td>415</td>\n",
      "<td>1%</td>\n",
      "</tr>, <tr>\n",
      "<td>Physician Associate</td>\n",
      "<td>31</td>\n",
      "<td>85</td>\n",
      "<td>116</td>\n",
      "<td>2%</td>\n",
      "</tr>, <tr>\n",
      "<td>Public Health</td>\n",
      "<td>99</td>\n",
      "<td>272</td>\n",
      "<td>371</td>\n",
      "<td>28%</td>\n",
      "</tr>, <tr>\n",
      "<td><strong>Professional School Programs Total</strong></td>\n",
      "<td>1,991</td>\n",
      "<td>2,446</td>\n",
      "<td>4,437</td>\n",
      "<td>22%</td>\n",
      "</tr>, <tr>\n",
      "<td><strong>Total University</strong></td>\n",
      "<td><strong>6,581</strong></td>\n",
      "<td><strong>6,881</strong></td>\n",
      "<td><strong>13,462</strong></td>\n",
      "<td><strong>21%</strong></td>\n",
      "</tr>]\n"
     ]
    }
   ],
   "source": [
    "# Yes! That's the last row we need..splice there\n",
    "\n",
    "rows = rows[:21]\n",
    "print(rows)"
   ]
  },
  {
   "cell_type": "code",
   "execution_count": 10,
   "metadata": {},
   "outputs": [
    {
     "name": "stdout",
     "output_type": "stream",
     "text": [
      "[Total University, 6,581, 6,881, 13,462, 21%]\n"
     ]
    },
    {
     "data": {
      "text/plain": [
       "str"
      ]
     },
     "execution_count": 10,
     "metadata": {},
     "output_type": "execute_result"
    }
   ],
   "source": [
    "# We need to remove those tags again:\n",
    "# Find all the characters inside the < td > html tags and replace them with an empty string \n",
    "list_rows = []\n",
    "for row in rows:\n",
    "    cells = row.find_all('td')\n",
    "    str_cells = str(cells)\n",
    "    # Match \"<\" followed by anything and \">\" \n",
    "    clean = re.compile('<.*?>')\n",
    "    # Replace matching substring with an empty string\n",
    "    clean2 = (re.sub(clean, '',str_cells))\n",
    "    list_rows.append(clean2)\n",
    "\n",
    "print(clean2)\n",
    "type(clean2)"
   ]
  },
  {
   "cell_type": "code",
   "execution_count": 11,
   "metadata": {},
   "outputs": [
    {
     "data": {
      "text/html": [
       "<div>\n",
       "<style scoped>\n",
       "    .dataframe tbody tr th:only-of-type {\n",
       "        vertical-align: middle;\n",
       "    }\n",
       "\n",
       "    .dataframe tbody tr th {\n",
       "        vertical-align: top;\n",
       "    }\n",
       "\n",
       "    .dataframe thead th {\n",
       "        text-align: right;\n",
       "    }\n",
       "</style>\n",
       "<table border=\"1\" class=\"dataframe\">\n",
       "  <thead>\n",
       "    <tr style=\"text-align: right;\">\n",
       "      <th></th>\n",
       "      <th>0</th>\n",
       "    </tr>\n",
       "  </thead>\n",
       "  <tbody>\n",
       "    <tr>\n",
       "      <th>0</th>\n",
       "      <td>[]</td>\n",
       "    </tr>\n",
       "    <tr>\n",
       "      <th>1</th>\n",
       "      <td>[Yale College, 2,971, 2,993, 5,964, 11%]</td>\n",
       "    </tr>\n",
       "    <tr>\n",
       "      <th>2</th>\n",
       "      <td>[Special (Degree &amp;amp; Non-Degree), 23, 6, 29,...</td>\n",
       "    </tr>\n",
       "    <tr>\n",
       "      <th>3</th>\n",
       "      <td>[Graduate School of Arts &amp;amp; Sciences, 1,596...</td>\n",
       "    </tr>\n",
       "    <tr>\n",
       "      <th>4</th>\n",
       "      <td>[\\nProfessional School Programs\\n,  ,  ,  ,  ]</td>\n",
       "    </tr>\n",
       "  </tbody>\n",
       "</table>\n",
       "</div>"
      ],
      "text/plain": [
       "                                                   0\n",
       "0                                                 []\n",
       "1           [Yale College, 2,971, 2,993, 5,964, 11%]\n",
       "2  [Special (Degree &amp; Non-Degree), 23, 6, 29,...\n",
       "3  [Graduate School of Arts &amp; Sciences, 1,596...\n",
       "4     [\\nProfessional School Programs\\n,  ,  ,  ,  ]"
      ]
     },
     "execution_count": 11,
     "metadata": {},
     "output_type": "execute_result"
    }
   ],
   "source": [
    "# Convert the list into a dataframe\n",
    "df = pd.DataFrame(list_rows)\n",
    "\n",
    "df.head()"
   ]
  },
  {
   "cell_type": "code",
   "execution_count": 12,
   "metadata": {},
   "outputs": [
    {
     "data": {
      "text/html": [
       "<div>\n",
       "<style scoped>\n",
       "    .dataframe tbody tr th:only-of-type {\n",
       "        vertical-align: middle;\n",
       "    }\n",
       "\n",
       "    .dataframe tbody tr th {\n",
       "        vertical-align: top;\n",
       "    }\n",
       "\n",
       "    .dataframe thead th {\n",
       "        text-align: right;\n",
       "    }\n",
       "</style>\n",
       "<table border=\"1\" class=\"dataframe\">\n",
       "  <thead>\n",
       "    <tr style=\"text-align: right;\">\n",
       "      <th></th>\n",
       "      <th>0</th>\n",
       "      <th>1</th>\n",
       "      <th>2</th>\n",
       "      <th>3</th>\n",
       "      <th>4</th>\n",
       "    </tr>\n",
       "  </thead>\n",
       "  <tbody>\n",
       "    <tr>\n",
       "      <th>0</th>\n",
       "      <td>[]</td>\n",
       "      <td>None</td>\n",
       "      <td>None</td>\n",
       "      <td>None</td>\n",
       "      <td>None</td>\n",
       "    </tr>\n",
       "    <tr>\n",
       "      <th>1</th>\n",
       "      <td>[Yale College</td>\n",
       "      <td>2,971</td>\n",
       "      <td>2,993</td>\n",
       "      <td>5,964</td>\n",
       "      <td>11%]</td>\n",
       "    </tr>\n",
       "    <tr>\n",
       "      <th>2</th>\n",
       "      <td>[Special (Degree &amp;amp; Non-Degree)</td>\n",
       "      <td>23</td>\n",
       "      <td>6</td>\n",
       "      <td>29</td>\n",
       "      <td>0%]</td>\n",
       "    </tr>\n",
       "    <tr>\n",
       "      <th>3</th>\n",
       "      <td>[Graduate School of Arts &amp;amp; Sciences</td>\n",
       "      <td>1,596</td>\n",
       "      <td>1,436</td>\n",
       "      <td>3,032</td>\n",
       "      <td>37%]</td>\n",
       "    </tr>\n",
       "    <tr>\n",
       "      <th>4</th>\n",
       "      <td>[\\nProfessional School Programs\\n</td>\n",
       "      <td></td>\n",
       "      <td></td>\n",
       "      <td></td>\n",
       "      <td>]</td>\n",
       "    </tr>\n",
       "  </tbody>\n",
       "</table>\n",
       "</div>"
      ],
      "text/plain": [
       "                                         0      1      2      3     4\n",
       "0                                       []   None   None   None  None\n",
       "1                            [Yale College  2,971  2,993  5,964  11%]\n",
       "2       [Special (Degree &amp; Non-Degree)     23      6     29   0%]\n",
       "3  [Graduate School of Arts &amp; Sciences  1,596  1,436  3,032  37%]\n",
       "4        [\\nProfessional School Programs\\n                          ]"
      ]
     },
     "execution_count": 12,
     "metadata": {},
     "output_type": "execute_result"
    }
   ],
   "source": [
    "# Let's split those lists into columns:\n",
    "df1 = df[0].str.split(', ', expand=True)\n",
    "\n",
    "df1.head()"
   ]
  },
  {
   "cell_type": "code",
   "execution_count": 13,
   "metadata": {},
   "outputs": [
    {
     "data": {
      "text/html": [
       "<div>\n",
       "<style scoped>\n",
       "    .dataframe tbody tr th:only-of-type {\n",
       "        vertical-align: middle;\n",
       "    }\n",
       "\n",
       "    .dataframe tbody tr th {\n",
       "        vertical-align: top;\n",
       "    }\n",
       "\n",
       "    .dataframe thead th {\n",
       "        text-align: right;\n",
       "    }\n",
       "</style>\n",
       "<table border=\"1\" class=\"dataframe\">\n",
       "  <thead>\n",
       "    <tr style=\"text-align: right;\">\n",
       "      <th></th>\n",
       "      <th>0</th>\n",
       "      <th>1</th>\n",
       "      <th>2</th>\n",
       "      <th>3</th>\n",
       "      <th>4</th>\n",
       "    </tr>\n",
       "  </thead>\n",
       "  <tbody>\n",
       "    <tr>\n",
       "      <th>0</th>\n",
       "      <td></td>\n",
       "      <td>None</td>\n",
       "      <td>None</td>\n",
       "      <td>None</td>\n",
       "      <td>None</td>\n",
       "    </tr>\n",
       "    <tr>\n",
       "      <th>1</th>\n",
       "      <td>Yale College</td>\n",
       "      <td>2,971</td>\n",
       "      <td>2,993</td>\n",
       "      <td>5,964</td>\n",
       "      <td>11%</td>\n",
       "    </tr>\n",
       "    <tr>\n",
       "      <th>2</th>\n",
       "      <td>Special (Degree &amp;amp; Non-Degree)</td>\n",
       "      <td>23</td>\n",
       "      <td>6</td>\n",
       "      <td>29</td>\n",
       "      <td>0%</td>\n",
       "    </tr>\n",
       "    <tr>\n",
       "      <th>3</th>\n",
       "      <td>Graduate School of Arts &amp;amp; Sciences</td>\n",
       "      <td>1,596</td>\n",
       "      <td>1,436</td>\n",
       "      <td>3,032</td>\n",
       "      <td>37%</td>\n",
       "    </tr>\n",
       "    <tr>\n",
       "      <th>4</th>\n",
       "      <td>\\nProfessional School Programs\\n</td>\n",
       "      <td></td>\n",
       "      <td></td>\n",
       "      <td></td>\n",
       "      <td></td>\n",
       "    </tr>\n",
       "  </tbody>\n",
       "</table>\n",
       "</div>"
      ],
      "text/plain": [
       "                                        0      1      2      3     4\n",
       "0                                           None   None   None  None\n",
       "1                            Yale College  2,971  2,993  5,964   11%\n",
       "2       Special (Degree &amp; Non-Degree)     23      6     29    0%\n",
       "3  Graduate School of Arts &amp; Sciences  1,596  1,436  3,032   37%\n",
       "4        \\nProfessional School Programs\\n                           "
      ]
     },
     "execution_count": 13,
     "metadata": {},
     "output_type": "execute_result"
    }
   ],
   "source": [
    "# Let's remove the brakets from the first..\n",
    "df1[0] = df1[0].str.strip('[').str.strip(']')\n",
    "# And the last column\n",
    "df1[4] = df1[4].str.strip(']')\n",
    "\n",
    "df1.head()"
   ]
  },
  {
   "cell_type": "code",
   "execution_count": 14,
   "metadata": {},
   "outputs": [
    {
     "data": {
      "text/plain": [
       "bs4.element.ResultSet"
      ]
     },
     "execution_count": 14,
     "metadata": {},
     "output_type": "execute_result"
    }
   ],
   "source": [
    "# We need table titles! Let's find them from our soup\n",
    "col_labels = soup.find_all('th')\n",
    "\n",
    "type(col_labels)"
   ]
  },
  {
   "cell_type": "code",
   "execution_count": 15,
   "metadata": {},
   "outputs": [
    {
     "name": "stdout",
     "output_type": "stream",
     "text": [
      "[Division, Male, Female, Total, % International*, Ethnicity, %, Degree, Men, Women, Total, % Who are International, Expected Plans for Fall 2018, %, Yale Schools, Tenured, Term, Continuing, Instructional, Research, Total, Staff Classification, Headcount]\n"
     ]
    }
   ],
   "source": [
    "# Transform to string: \n",
    "all_header = []\n",
    "col_str = str(col_labels)\n",
    "all_header = BeautifulSoup(col_str, \"lxml\").get_text()\n",
    "\n",
    "print(all_header)"
   ]
  },
  {
   "cell_type": "code",
   "execution_count": 16,
   "metadata": {},
   "outputs": [
    {
     "name": "stdout",
     "output_type": "stream",
     "text": [
      "Division, Male, Female, Total, % International\n"
     ]
    }
   ],
   "source": [
    "# We don't need them all!\n",
    "header = all_header[:47]\n",
    "header = header.strip('[')\n",
    "print(header)"
   ]
  },
  {
   "cell_type": "code",
   "execution_count": 17,
   "metadata": {},
   "outputs": [
    {
     "data": {
      "text/html": [
       "<div>\n",
       "<style scoped>\n",
       "    .dataframe tbody tr th:only-of-type {\n",
       "        vertical-align: middle;\n",
       "    }\n",
       "\n",
       "    .dataframe tbody tr th {\n",
       "        vertical-align: top;\n",
       "    }\n",
       "\n",
       "    .dataframe thead th {\n",
       "        text-align: right;\n",
       "    }\n",
       "</style>\n",
       "<table border=\"1\" class=\"dataframe\">\n",
       "  <thead>\n",
       "    <tr style=\"text-align: right;\">\n",
       "      <th></th>\n",
       "      <th>Division</th>\n",
       "      <th>Male</th>\n",
       "      <th>Female</th>\n",
       "      <th>Total</th>\n",
       "      <th>% International</th>\n",
       "    </tr>\n",
       "  </thead>\n",
       "  <tbody>\n",
       "    <tr>\n",
       "      <th>0</th>\n",
       "      <td></td>\n",
       "      <td>None</td>\n",
       "      <td>None</td>\n",
       "      <td>None</td>\n",
       "      <td>None</td>\n",
       "    </tr>\n",
       "    <tr>\n",
       "      <th>1</th>\n",
       "      <td>Yale College</td>\n",
       "      <td>2,971</td>\n",
       "      <td>2,993</td>\n",
       "      <td>5,964</td>\n",
       "      <td>11%</td>\n",
       "    </tr>\n",
       "    <tr>\n",
       "      <th>2</th>\n",
       "      <td>Special (Degree &amp;amp; Non-Degree)</td>\n",
       "      <td>23</td>\n",
       "      <td>6</td>\n",
       "      <td>29</td>\n",
       "      <td>0%</td>\n",
       "    </tr>\n",
       "    <tr>\n",
       "      <th>3</th>\n",
       "      <td>Graduate School of Arts &amp;amp; Sciences</td>\n",
       "      <td>1,596</td>\n",
       "      <td>1,436</td>\n",
       "      <td>3,032</td>\n",
       "      <td>37%</td>\n",
       "    </tr>\n",
       "    <tr>\n",
       "      <th>4</th>\n",
       "      <td>\\nProfessional School Programs\\n</td>\n",
       "      <td></td>\n",
       "      <td></td>\n",
       "      <td></td>\n",
       "      <td></td>\n",
       "    </tr>\n",
       "  </tbody>\n",
       "</table>\n",
       "</div>"
      ],
      "text/plain": [
       "                                 Division   Male Female  Total % International\n",
       "0                                           None   None   None            None\n",
       "1                            Yale College  2,971  2,993  5,964             11%\n",
       "2       Special (Degree &amp; Non-Degree)     23      6     29              0%\n",
       "3  Graduate School of Arts &amp; Sciences  1,596  1,436  3,032             37%\n",
       "4        \\nProfessional School Programs\\n                                     "
      ]
     },
     "execution_count": 17,
     "metadata": {},
     "output_type": "execute_result"
    }
   ],
   "source": [
    "# Assign to dataframe header\n",
    "\n",
    "df1.columns = header.split(', ')\n",
    "df1.head()"
   ]
  },
  {
   "cell_type": "code",
   "execution_count": 18,
   "metadata": {},
   "outputs": [
    {
     "data": {
      "text/html": [
       "<div>\n",
       "<style scoped>\n",
       "    .dataframe tbody tr th:only-of-type {\n",
       "        vertical-align: middle;\n",
       "    }\n",
       "\n",
       "    .dataframe tbody tr th {\n",
       "        vertical-align: top;\n",
       "    }\n",
       "\n",
       "    .dataframe thead th {\n",
       "        text-align: right;\n",
       "    }\n",
       "</style>\n",
       "<table border=\"1\" class=\"dataframe\">\n",
       "  <thead>\n",
       "    <tr style=\"text-align: right;\">\n",
       "      <th></th>\n",
       "      <th>Division</th>\n",
       "      <th>Male</th>\n",
       "      <th>Female</th>\n",
       "      <th>Total</th>\n",
       "      <th>% International</th>\n",
       "    </tr>\n",
       "  </thead>\n",
       "  <tbody>\n",
       "    <tr>\n",
       "      <th>1</th>\n",
       "      <td>Yale College</td>\n",
       "      <td>2,971</td>\n",
       "      <td>2,993</td>\n",
       "      <td>5,964</td>\n",
       "      <td>11%</td>\n",
       "    </tr>\n",
       "    <tr>\n",
       "      <th>2</th>\n",
       "      <td>Special (Degree &amp;amp; Non-Degree)</td>\n",
       "      <td>23</td>\n",
       "      <td>6</td>\n",
       "      <td>29</td>\n",
       "      <td>0%</td>\n",
       "    </tr>\n",
       "    <tr>\n",
       "      <th>3</th>\n",
       "      <td>Graduate School of Arts &amp;amp; Sciences</td>\n",
       "      <td>1,596</td>\n",
       "      <td>1,436</td>\n",
       "      <td>3,032</td>\n",
       "      <td>37%</td>\n",
       "    </tr>\n",
       "    <tr>\n",
       "      <th>4</th>\n",
       "      <td>\\nProfessional School Programs\\n</td>\n",
       "      <td></td>\n",
       "      <td></td>\n",
       "      <td></td>\n",
       "      <td></td>\n",
       "    </tr>\n",
       "    <tr>\n",
       "      <th>5</th>\n",
       "      <td>Architecture</td>\n",
       "      <td>94</td>\n",
       "      <td>112</td>\n",
       "      <td>206</td>\n",
       "      <td>47%</td>\n",
       "    </tr>\n",
       "  </tbody>\n",
       "</table>\n",
       "</div>"
      ],
      "text/plain": [
       "                                 Division   Male Female  Total % International\n",
       "1                            Yale College  2,971  2,993  5,964             11%\n",
       "2       Special (Degree &amp; Non-Degree)     23      6     29              0%\n",
       "3  Graduate School of Arts &amp; Sciences  1,596  1,436  3,032             37%\n",
       "4        \\nProfessional School Programs\\n                                     \n",
       "5                            Architecture     94    112    206             47%"
      ]
     },
     "execution_count": 18,
     "metadata": {},
     "output_type": "execute_result"
    }
   ],
   "source": [
    "# Delete the empty row!\n",
    "\n",
    "df1 = df1.dropna(axis=0, how='any')\n",
    "df1.head()"
   ]
  },
  {
   "cell_type": "code",
   "execution_count": 19,
   "metadata": {},
   "outputs": [
    {
     "data": {
      "text/plain": [
       "'\\xa0'"
      ]
     },
     "execution_count": 19,
     "metadata": {},
     "output_type": "execute_result"
    }
   ],
   "source": [
    "# WShat are those empty spaces?\n",
    "\n",
    "df1.iloc[3]['Male']"
   ]
  },
  {
   "cell_type": "code",
   "execution_count": 20,
   "metadata": {},
   "outputs": [
    {
     "data": {
      "text/html": [
       "<div>\n",
       "<style scoped>\n",
       "    .dataframe tbody tr th:only-of-type {\n",
       "        vertical-align: middle;\n",
       "    }\n",
       "\n",
       "    .dataframe tbody tr th {\n",
       "        vertical-align: top;\n",
       "    }\n",
       "\n",
       "    .dataframe thead th {\n",
       "        text-align: right;\n",
       "    }\n",
       "</style>\n",
       "<table border=\"1\" class=\"dataframe\">\n",
       "  <thead>\n",
       "    <tr style=\"text-align: right;\">\n",
       "      <th></th>\n",
       "      <th>Division</th>\n",
       "      <th>Male</th>\n",
       "      <th>Female</th>\n",
       "      <th>Total</th>\n",
       "      <th>% International</th>\n",
       "    </tr>\n",
       "  </thead>\n",
       "  <tbody>\n",
       "    <tr>\n",
       "      <th>1</th>\n",
       "      <td>Yale College</td>\n",
       "      <td>2,971</td>\n",
       "      <td>2,993</td>\n",
       "      <td>5,964</td>\n",
       "      <td>11%</td>\n",
       "    </tr>\n",
       "    <tr>\n",
       "      <th>2</th>\n",
       "      <td>Special (Degree &amp;amp; Non-Degree)</td>\n",
       "      <td>23</td>\n",
       "      <td>6</td>\n",
       "      <td>29</td>\n",
       "      <td>0%</td>\n",
       "    </tr>\n",
       "    <tr>\n",
       "      <th>3</th>\n",
       "      <td>Graduate School of Arts &amp;amp; Sciences</td>\n",
       "      <td>1,596</td>\n",
       "      <td>1,436</td>\n",
       "      <td>3,032</td>\n",
       "      <td>37%</td>\n",
       "    </tr>\n",
       "    <tr>\n",
       "      <th>5</th>\n",
       "      <td>Architecture</td>\n",
       "      <td>94</td>\n",
       "      <td>112</td>\n",
       "      <td>206</td>\n",
       "      <td>47%</td>\n",
       "    </tr>\n",
       "    <tr>\n",
       "      <th>6</th>\n",
       "      <td>Art</td>\n",
       "      <td>53</td>\n",
       "      <td>75</td>\n",
       "      <td>128</td>\n",
       "      <td>28%</td>\n",
       "    </tr>\n",
       "  </tbody>\n",
       "</table>\n",
       "</div>"
      ],
      "text/plain": [
       "                                 Division   Male Female  Total % International\n",
       "1                            Yale College  2,971  2,993  5,964             11%\n",
       "2       Special (Degree &amp; Non-Degree)     23      6     29              0%\n",
       "3  Graduate School of Arts &amp; Sciences  1,596  1,436  3,032             37%\n",
       "5                            Architecture     94    112    206             47%\n",
       "6                                     Art     53     75    128             28%"
      ]
     },
     "execution_count": 20,
     "metadata": {},
     "output_type": "execute_result"
    }
   ],
   "source": [
    "# Ok, let's replace and delete!\n",
    "\n",
    "df1.replace('\\xa0', np.nan, inplace=True)\n",
    "df1 = df1.dropna(axis=0, how='any')\n",
    "df1.head()"
   ]
  },
  {
   "cell_type": "code",
   "execution_count": 21,
   "metadata": {},
   "outputs": [
    {
     "data": {
      "text/html": [
       "<div>\n",
       "<style scoped>\n",
       "    .dataframe tbody tr th:only-of-type {\n",
       "        vertical-align: middle;\n",
       "    }\n",
       "\n",
       "    .dataframe tbody tr th {\n",
       "        vertical-align: top;\n",
       "    }\n",
       "\n",
       "    .dataframe thead th {\n",
       "        text-align: right;\n",
       "    }\n",
       "</style>\n",
       "<table border=\"1\" class=\"dataframe\">\n",
       "  <thead>\n",
       "    <tr style=\"text-align: right;\">\n",
       "      <th></th>\n",
       "      <th>Male</th>\n",
       "      <th>Female</th>\n",
       "      <th>Total</th>\n",
       "      <th>% International</th>\n",
       "    </tr>\n",
       "    <tr>\n",
       "      <th>Division</th>\n",
       "      <th></th>\n",
       "      <th></th>\n",
       "      <th></th>\n",
       "      <th></th>\n",
       "    </tr>\n",
       "  </thead>\n",
       "  <tbody>\n",
       "    <tr>\n",
       "      <th>Yale College</th>\n",
       "      <td>2971.0</td>\n",
       "      <td>2993.0</td>\n",
       "      <td>5964.0</td>\n",
       "      <td>11.0</td>\n",
       "    </tr>\n",
       "    <tr>\n",
       "      <th>Special (Degree &amp;amp; Non-Degree)</th>\n",
       "      <td>23.0</td>\n",
       "      <td>6.0</td>\n",
       "      <td>29.0</td>\n",
       "      <td>0.0</td>\n",
       "    </tr>\n",
       "    <tr>\n",
       "      <th>Graduate School of Arts &amp;amp; Sciences</th>\n",
       "      <td>1596.0</td>\n",
       "      <td>1436.0</td>\n",
       "      <td>3032.0</td>\n",
       "      <td>37.0</td>\n",
       "    </tr>\n",
       "    <tr>\n",
       "      <th>Architecture</th>\n",
       "      <td>94.0</td>\n",
       "      <td>112.0</td>\n",
       "      <td>206.0</td>\n",
       "      <td>47.0</td>\n",
       "    </tr>\n",
       "    <tr>\n",
       "      <th>Art</th>\n",
       "      <td>53.0</td>\n",
       "      <td>75.0</td>\n",
       "      <td>128.0</td>\n",
       "      <td>28.0</td>\n",
       "    </tr>\n",
       "  </tbody>\n",
       "</table>\n",
       "</div>"
      ],
      "text/plain": [
       "                                          Male  Female   Total  \\\n",
       "Division                                                         \n",
       "Yale College                            2971.0  2993.0  5964.0   \n",
       "Special (Degree &amp; Non-Degree)         23.0     6.0    29.0   \n",
       "Graduate School of Arts &amp; Sciences  1596.0  1436.0  3032.0   \n",
       "Architecture                              94.0   112.0   206.0   \n",
       "Art                                       53.0    75.0   128.0   \n",
       "\n",
       "                                        % International  \n",
       "Division                                                 \n",
       "Yale College                                       11.0  \n",
       "Special (Degree &amp; Non-Degree)                   0.0  \n",
       "Graduate School of Arts &amp; Sciences             37.0  \n",
       "Architecture                                       47.0  \n",
       "Art                                                28.0  "
      ]
     },
     "execution_count": 21,
     "metadata": {},
     "output_type": "execute_result"
    }
   ],
   "source": [
    "# Let's get ready for plotting:\n",
    "\n",
    "# The first column is really the index of the dataframe; \n",
    "df1.set_index('Division', inplace=True)\n",
    "\n",
    "# Also we need to convert the values to numbers\n",
    "df1 = df1.apply(lambda x: x.str.replace(',',''))\n",
    "df1 = df1.apply(lambda x: x.str.replace('%',''))\n",
    "df1 = df1.astype(float)\n",
    "\n",
    "df1.head()"
   ]
  },
  {
   "cell_type": "code",
   "execution_count": 22,
   "metadata": {},
   "outputs": [
    {
     "data": {
      "text/html": [
       "<div>\n",
       "<style scoped>\n",
       "    .dataframe tbody tr th:only-of-type {\n",
       "        vertical-align: middle;\n",
       "    }\n",
       "\n",
       "    .dataframe tbody tr th {\n",
       "        vertical-align: top;\n",
       "    }\n",
       "\n",
       "    .dataframe thead th {\n",
       "        text-align: right;\n",
       "    }\n",
       "</style>\n",
       "<table border=\"1\" class=\"dataframe\">\n",
       "  <thead>\n",
       "    <tr style=\"text-align: right;\">\n",
       "      <th></th>\n",
       "      <th>Male</th>\n",
       "      <th>Female</th>\n",
       "      <th>Total</th>\n",
       "      <th>% International</th>\n",
       "      <th>% Male</th>\n",
       "      <th>% Female</th>\n",
       "    </tr>\n",
       "    <tr>\n",
       "      <th>Division</th>\n",
       "      <th></th>\n",
       "      <th></th>\n",
       "      <th></th>\n",
       "      <th></th>\n",
       "      <th></th>\n",
       "      <th></th>\n",
       "    </tr>\n",
       "  </thead>\n",
       "  <tbody>\n",
       "    <tr>\n",
       "      <th>Yale College</th>\n",
       "      <td>2971.0</td>\n",
       "      <td>2993.0</td>\n",
       "      <td>5964.0</td>\n",
       "      <td>11.0</td>\n",
       "      <td>49.815560</td>\n",
       "      <td>50.184440</td>\n",
       "    </tr>\n",
       "    <tr>\n",
       "      <th>Special (Degree &amp;amp; Non-Degree)</th>\n",
       "      <td>23.0</td>\n",
       "      <td>6.0</td>\n",
       "      <td>29.0</td>\n",
       "      <td>0.0</td>\n",
       "      <td>79.310345</td>\n",
       "      <td>20.689655</td>\n",
       "    </tr>\n",
       "    <tr>\n",
       "      <th>Graduate School of Arts &amp;amp; Sciences</th>\n",
       "      <td>1596.0</td>\n",
       "      <td>1436.0</td>\n",
       "      <td>3032.0</td>\n",
       "      <td>37.0</td>\n",
       "      <td>52.638522</td>\n",
       "      <td>47.361478</td>\n",
       "    </tr>\n",
       "    <tr>\n",
       "      <th>Architecture</th>\n",
       "      <td>94.0</td>\n",
       "      <td>112.0</td>\n",
       "      <td>206.0</td>\n",
       "      <td>47.0</td>\n",
       "      <td>45.631068</td>\n",
       "      <td>54.368932</td>\n",
       "    </tr>\n",
       "    <tr>\n",
       "      <th>Art</th>\n",
       "      <td>53.0</td>\n",
       "      <td>75.0</td>\n",
       "      <td>128.0</td>\n",
       "      <td>28.0</td>\n",
       "      <td>41.406250</td>\n",
       "      <td>58.593750</td>\n",
       "    </tr>\n",
       "  </tbody>\n",
       "</table>\n",
       "</div>"
      ],
      "text/plain": [
       "                                          Male  Female   Total  \\\n",
       "Division                                                         \n",
       "Yale College                            2971.0  2993.0  5964.0   \n",
       "Special (Degree &amp; Non-Degree)         23.0     6.0    29.0   \n",
       "Graduate School of Arts &amp; Sciences  1596.0  1436.0  3032.0   \n",
       "Architecture                              94.0   112.0   206.0   \n",
       "Art                                       53.0    75.0   128.0   \n",
       "\n",
       "                                        % International     % Male   % Female  \n",
       "Division                                                                       \n",
       "Yale College                                       11.0  49.815560  50.184440  \n",
       "Special (Degree &amp; Non-Degree)                   0.0  79.310345  20.689655  \n",
       "Graduate School of Arts &amp; Sciences             37.0  52.638522  47.361478  \n",
       "Architecture                                       47.0  45.631068  54.368932  \n",
       "Art                                                28.0  41.406250  58.593750  "
      ]
     },
     "execution_count": 22,
     "metadata": {},
     "output_type": "execute_result"
    }
   ],
   "source": [
    "df1['% Male'] = df1['Male']*100/df1['Total']\n",
    "df1['% Female'] = df1['Female']*100/df1['Total']\n",
    "df1.head()"
   ]
  },
  {
   "cell_type": "code",
   "execution_count": 23,
   "metadata": {},
   "outputs": [
    {
     "data": {
      "text/plain": [
       "<matplotlib.axes._subplots.AxesSubplot at 0x11ffee2b0>"
      ]
     },
     "execution_count": 23,
     "metadata": {},
     "output_type": "execute_result"
    },
    {
     "data": {
      "image/png": "[encoded data removed]",
      "text/plain": [
       "<Figure size 432x288 with 1 Axes>"
      ]
     },
     "metadata": {
      "needs_background": "light"
     },
     "output_type": "display_data"
    }
   ],
   "source": [
    "df1.plot.bar(y=['% Male', '% Female'], stacked=True)"
   ]
  },
  {
   "cell_type": "code",
   "execution_count": 24,
   "metadata": {},
   "outputs": [
    {
     "data": {
      "text/plain": [
       "<matplotlib.axes._subplots.AxesSubplot at 0x120350048>"
      ]
     },
     "execution_count": 24,
     "metadata": {},
     "output_type": "execute_result"
    },
    {
     "data": {
      "image/png": "[encoded data removed]",
      "text/plain": [
       "<Figure size 432x288 with 1 Axes>"
      ]
     },
     "metadata": {
      "needs_background": "light"
     },
     "output_type": "display_data"
    }
   ],
   "source": [
    "df1.plot.bar(y=['% International'], color='green')"
   ]
  },
  {
   "cell_type": "markdown",
   "metadata": {},
   "source": [
    "## Your turn!"
   ]
  },
  {
   "cell_type": "markdown",
   "metadata": {},
   "source": [
    "In the above example, we extracted data from one of the tables in the Yale Facts website. Now you'll try to extract data from another table -- the number of degrees conferred in the 2017-18 academic year. "
   ]
  },
  {
   "cell_type": "markdown",
   "metadata": {},
   "source": [
    "Remember when we extracted the tables on the website, we only retained the first 21 rows -- but we can still recover the rest: "
   ]
  },
  {
   "cell_type": "code",
   "execution_count": null,
   "metadata": {},
   "outputs": [],
   "source": [
    "# Print the first 10 rows for sanity check\n",
    "rows = soup.find_all('tr')\n",
    "print(rows)"
   ]
  },
  {
   "cell_type": "markdown",
   "metadata": {},
   "source": [
    "Exercise 1: slice the list of tables retaining only the data points the number of degrees conferred"
   ]
  },
  {
   "cell_type": "code",
   "execution_count": null,
   "metadata": {},
   "outputs": [],
   "source": [
    "rows = ###YOUR ANSWER HERE###"
   ]
  },
  {
   "cell_type": "code",
   "execution_count": null,
   "metadata": {},
   "outputs": [],
   "source": [
    "# Check it matches the website\n",
    "print(rows)"
   ]
  },
  {
   "cell_type": "code",
   "execution_count": null,
   "metadata": {},
   "outputs": [],
   "source": [
    "# Find all the characters inside the < td > html tags and replace them with an empty string \n",
    "list_rows = []\n",
    "for row in rows:\n",
    "    cells = row.find_all('td')\n",
    "    str_cells = str(cells)\n",
    "    # Match \"<\" followed by anything and \">\" \n",
    "    clean = re.compile('<.*?>')\n",
    "    # Replace matching substring with an empty string\n",
    "    clean2 = (re.sub(clean, '',str_cells))\n",
    "    list_rows.append(clean2)\n",
    "print(clean2)\n",
    "type(clean2)"
   ]
  },
  {
   "cell_type": "code",
   "execution_count": null,
   "metadata": {},
   "outputs": [],
   "source": [
    "# Convert the list into a dataframe\n",
    "df = pd.DataFrame(list_rows)\n",
    "df.head(10)"
   ]
  },
  {
   "cell_type": "markdown",
   "metadata": {},
   "source": [
    "Let's now get the titles for this new data - remember we have already downloaded the titles earlier:"
   ]
  },
  {
   "cell_type": "code",
   "execution_count": null,
   "metadata": {},
   "outputs": [],
   "source": [
    "print(all_header)"
   ]
  },
  {
   "cell_type": "markdown",
   "metadata": {},
   "source": [
    "Exercise 2: extract the relevant titles for this dataframe from the list we downloaded earlier"
   ]
  },
  {
   "cell_type": "code",
   "execution_count": null,
   "metadata": {},
   "outputs": [],
   "source": [
    "header = ###YOUR ANSWER HERE###\n",
    "header = header.strip('[')\n",
    "header = header.split(', ')\n",
    "print(header)"
   ]
  },
  {
   "cell_type": "markdown",
   "metadata": {},
   "source": [
    "Exercise 3: convert the dataframe into a format we can work with, using these steps:"
   ]
  },
  {
   "cell_type": "code",
   "execution_count": null,
   "metadata": {},
   "outputs": [],
   "source": [
    "# 1. convert the first column into multiple columns\n",
    "df1 = ###YOUR ANSWER HERE###\n",
    "\n",
    "df1.head()"
   ]
  },
  {
   "cell_type": "code",
   "execution_count": null,
   "metadata": {},
   "outputs": [],
   "source": [
    "# 2. delete extra characters (e.g. '[', ']', '%', ...)\n",
    "df1[0] = df1[0].str.strip('[').str.strip(']')\n",
    "df1[4] = df1[4].str.strip(']').str.strip('%')\n",
    "\n",
    "df1.head()\n"
   ]
  },
  {
   "cell_type": "code",
   "execution_count": null,
   "metadata": {},
   "outputs": [],
   "source": [
    "# 3. remember we had trouble earlier converting strings to floats \n",
    "#.   because they had a comma separator; let's change those commas now\n",
    "df1 = df1.apply(lambda x: x.str.replace(',',''))\n",
    "\n",
    "df1.head()"
   ]
  },
  {
   "cell_type": "code",
   "execution_count": null,
   "metadata": {},
   "outputs": [],
   "source": [
    "# 4. assign the titles we extracted\n",
    "df1.columns = ###YOUR ANSWER HERE###\n",
    "\n",
    "df1.head()"
   ]
  },
  {
   "cell_type": "code",
   "execution_count": null,
   "metadata": {},
   "outputs": [],
   "source": [
    "# 5. replace empty cells with NaN\n",
    "###YOUR ANSWER HERE###\n",
    "\n",
    "df1.head()"
   ]
  },
  {
   "cell_type": "code",
   "execution_count": null,
   "metadata": {},
   "outputs": [],
   "source": [
    "# 6. drop empty rows\n",
    "###YOUR ANSWER HERE###\n",
    "\n",
    "df1.head()"
   ]
  },
  {
   "cell_type": "code",
   "execution_count": null,
   "metadata": {},
   "outputs": [],
   "source": [
    "# 7. convert first column to index\n",
    "###YOUR ANSWER HERE###\n",
    "\n",
    "df1.head()"
   ]
  },
  {
   "cell_type": "code",
   "execution_count": null,
   "metadata": {},
   "outputs": [],
   "source": [
    "# 8. Convert strings to floats\n",
    "df1 = df1.astype(float)\n",
    "\n",
    "df1.head()"
   ]
  },
  {
   "cell_type": "code",
   "execution_count": null,
   "metadata": {},
   "outputs": [],
   "source": [
    "# 9. Create new columns for percentage for easier plotting\n",
    "df1['% Male'] = df1['Men']*100/df1['Total']\n",
    "df1['% Female'] = df1['Women']*100/df1['Total']\n",
    "\n",
    "df1.head()"
   ]
  },
  {
   "cell_type": "markdown",
   "metadata": {},
   "source": [
    "Great, now we are ready for plotting!"
   ]
  },
  {
   "cell_type": "markdown",
   "metadata": {},
   "source": [
    "Exercise 4: make a bar graph plotting the % of degrees conferred (y axis) for each degree type (x axis), separately for male and female (colors)"
   ]
  },
  {
   "cell_type": "code",
   "execution_count": null,
   "metadata": {},
   "outputs": [],
   "source": [
    "###YOUR ANSWER HERE###"
   ]
  },
  {
   "cell_type": "code",
   "execution_count": null,
   "metadata": {},
   "outputs": [],
   "source": []
  }
 ],
 "metadata": {
  "kernelspec": {
   "display_name": "Python 3",
   "language": "python",
   "name": "python3"
  },
  "language_info": {
   "codemirror_mode": {
    "name": "ipython",
    "version": 3
   },
   "file_extension": ".py",
   "mimetype": "text/x-python",
   "name": "python",
   "nbconvert_exporter": "python",
   "pygments_lexer": "ipython3",
   "version": "3.7.3"
  }
 },
 "nbformat": 4,
 "nbformat_minor": 2
}
