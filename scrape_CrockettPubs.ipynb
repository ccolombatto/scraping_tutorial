{
 "cells": [
  {
   "cell_type": "markdown",
   "metadata": {},
   "source": [
    "## Text Scraping & Visualization Example\n",
    "\n",
    "In this notebook we will go through an example of how to download data from a website and visualize it. As a toy example, we will use <i>the publications page from the Crockett Lab website</i>."
   ]
  },
  {
   "cell_type": "markdown",
   "metadata": {},
   "source": [
    "First, we import the libraries we'll need"
   ]
  },
  {
   "cell_type": "code",
   "execution_count": null,
   "metadata": {},
   "outputs": [],
   "source": [
    "# A module to open URLs\n",
    "from urllib.request import urlopen\n",
    "\n",
    "# A module to extract data from html files\n",
    "from bs4 import BeautifulSoup\n",
    "\n",
    "# A module to download files\n",
    "import requests\n",
    "\n",
    "# A module for plotting\n",
    "import matplotlib.pyplot as plt\n",
    "%matplotlib inline\n",
    "\n",
    "# A module for generating word clouds from text\n",
    "import wordcloud"
   ]
  },
  {
   "cell_type": "markdown",
   "metadata": {},
   "source": [
    "Next, we retrive the html of the page and format it"
   ]
  },
  {
   "cell_type": "code",
   "execution_count": null,
   "metadata": {},
   "outputs": [],
   "source": [
    "# Get the html of the page\n",
    "url = \"http://www.crockettlab.org/publications\"\n",
    "html = urlopen(url)\n",
    "type(html)"
   ]
  },
  {
   "cell_type": "code",
   "execution_count": null,
   "metadata": {},
   "outputs": [],
   "source": [
    "# Create a Beautiful Soup object from the html\n",
    "soup = BeautifulSoup(html, 'lxml')\n",
    "type(soup)"
   ]
  },
  {
   "cell_type": "markdown",
   "metadata": {},
   "source": [
    "From this, we can get a number of attributes:"
   ]
  },
  {
   "cell_type": "code",
   "execution_count": null,
   "metadata": {},
   "outputs": [],
   "source": [
    "# Get the title\n",
    "title = soup.title\n",
    "print(title)"
   ]
  },
  {
   "cell_type": "code",
   "execution_count": null,
   "metadata": {},
   "outputs": [],
   "source": [
    "# Get the text\n",
    "text = soup.get_text()\n",
    "print(soup.text)"
   ]
  },
  {
   "cell_type": "markdown",
   "metadata": {},
   "source": [
    "We'd like to get the title of every paper listed on the website. I noticed all paper titles are bolded, so let's find the elements in the 'soup' that are bolded (i.e. using the strong tag)"
   ]
  },
  {
   "cell_type": "code",
   "execution_count": null,
   "metadata": {},
   "outputs": [],
   "source": [
    "# The paper titles\n",
    "all_titles = soup.find_all('strong')\n",
    "\n",
    "print(all_titles[:5])"
   ]
  },
  {
   "cell_type": "code",
   "execution_count": null,
   "metadata": {},
   "outputs": [],
   "source": [
    "# These don't look like strings (which usually have quotes)...\n",
    "# What format is it?\n",
    "\n",
    "type(all_titles[0])"
   ]
  },
  {
   "cell_type": "code",
   "execution_count": null,
   "metadata": {},
   "outputs": [],
   "source": [
    "# Let's loop through and conver to string\n",
    "\n",
    "titles = [] # Initialize an empty list\n",
    "for title in soup.find_all('strong'): # For each title from our 'soup'...\n",
    "    titles.append(str(title)) # convert to string and append to the empty list\n",
    "\n",
    "# Did it work?\n",
    "print(type(titles[0]))\n",
    "print(titles[0])"
   ]
  },
  {
   "cell_type": "code",
   "execution_count": null,
   "metadata": {},
   "outputs": [],
   "source": [
    "print(titles[:10])"
   ]
  },
  {
   "cell_type": "code",
   "execution_count": null,
   "metadata": {},
   "outputs": [],
   "source": [
    "# The tags are left over! Let's remove them:\n",
    "\n",
    "titles_clean = []\n",
    "for title in titles:\n",
    "    title = str(title).replace('<strong>', '')\n",
    "    title = title.replace('</strong>', '')\n",
    "    title = title.replace('<br/>', '')\n",
    "    titles_clean.append(title)\n",
    "    \n",
    "print(titles_clean[:10])"
   ]
  },
  {
   "cell_type": "markdown",
   "metadata": {},
   "source": [
    "Great! Now we have a list of titles of papers listed on the website. Let's visualize it using a word cloud!"
   ]
  },
  {
   "cell_type": "code",
   "execution_count": null,
   "metadata": {},
   "outputs": [],
   "source": [
    "# For the wordcloud funcion, we need to combine our list of titles into one long sting.\n",
    "\n",
    "all_words = '' # Initialize empty string\n",
    "for title in titles_clean: \n",
    "    tokens = title.split(' ') # split each title into its words\n",
    "    tokens = \" \".join(tokens) # join the list of words into one long string\n",
    "    all_words += tokens+\" \" # append the words from this title to the string of all titles\n",
    "\n",
    "print(all_words[:50])"
   ]
  },
  {
   "cell_type": "code",
   "execution_count": null,
   "metadata": {},
   "outputs": [],
   "source": [
    "# Create the word cloud from the string containing all titles\n",
    "wcloud = wordcloud.WordCloud(width = 800, height = 800, \n",
    "                background_color ='white', \n",
    "                min_font_size = 10).generate(all_words) \n",
    "\n",
    "# plot the WordCloud image                        \n",
    "plt.figure(figsize = (8, 8))\n",
    "plt.imshow(wcloud) \n",
    "plt.axis(\"off\") \n",
    "plt.tight_layout(pad = 0) \n",
    "  \n",
    "plt.show() "
   ]
  },
  {
   "cell_type": "markdown",
   "metadata": {},
   "source": [
    "### Let's try to download these papers!"
   ]
  },
  {
   "cell_type": "code",
   "execution_count": null,
   "metadata": {},
   "outputs": [],
   "source": [
    "# We will use again the find_all() method of soup to extract useful html tags\n",
    "# Some examples:\n",
    "# < a > for hyperlinks\n",
    "# < table > for tables\n",
    "# < tr > for table rows\n",
    "# < th > for table headers\n",
    "# < td > for table cells\n",
    "\n",
    "soup.find_all('a')"
   ]
  },
  {
   "cell_type": "code",
   "execution_count": null,
   "metadata": {},
   "outputs": [],
   "source": [
    "# Let's get the links only:\n",
    "\n",
    "all_links = soup.find_all(\"a\")\n",
    "for link in all_links:\n",
    "    print(link.get(\"href\"))"
   ]
  },
  {
   "cell_type": "markdown",
   "metadata": {},
   "source": [
    "We cannot download data from Dropbox without credentials, so we'll download solely the ones that are available on the webiste"
   ]
  },
  {
   "cell_type": "code",
   "execution_count": null,
   "metadata": {},
   "outputs": [],
   "source": [
    "i=0\n",
    "for link in all_links:\n",
    "    file = link.get(\"href\") # Get file\n",
    "    if str(file).startswith('/s/'):\n",
    "        print(i, file)\n",
    "        # Request the file\n",
    "        r = requests.get('http://www.crockettlab.org'+file, allow_redirects=True)\n",
    "        # Save it to a local directory\n",
    "        open('crockettpubs/'+str(i)+'.pdf', 'wb').write(r.content)\n",
    "        i+=1"
   ]
  },
  {
   "cell_type": "code",
   "execution_count": null,
   "metadata": {},
   "outputs": [],
   "source": []
  }
 ],
 "metadata": {
  "kernelspec": {
   "display_name": "Python 3",
   "language": "python",
   "name": "python3"
  },
  "language_info": {
   "codemirror_mode": {
    "name": "ipython",
    "version": 3
   },
   "file_extension": ".py",
   "mimetype": "text/x-python",
   "name": "python",
   "nbconvert_exporter": "python",
   "pygments_lexer": "ipython3",
   "version": "3.7.3"
  }
 },
 "nbformat": 4,
 "nbformat_minor": 2
}
